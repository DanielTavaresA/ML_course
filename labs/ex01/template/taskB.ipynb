{
 "cells": [
  {
   "cell_type": "code",
   "execution_count": 1,
   "metadata": {},
   "outputs": [],
   "source": [
    "%matplotlib inline\n",
    "import numpy as np\n",
    "import matplotlib.pyplot as plt\n",
    "%load_ext autoreload\n",
    "%autoreload 2"
   ]
  },
  {
   "cell_type": "markdown",
   "metadata": {},
   "source": [
    "Data Generation\n",
    "==="
   ]
  },
  {
   "cell_type": "code",
   "execution_count": 2,
   "metadata": {},
   "outputs": [
    {
     "name": "stdout",
     "output_type": "stream",
     "text": [
      "[[0.77132064 0.02075195]\n",
      " [0.63364823 0.74880388]\n",
      " [0.49850701 0.22479665]\n",
      " [0.19806286 0.76053071]] \n",
      "\n",
      " [[0.16911084 0.08833981]\n",
      " [0.68535982 0.95339335]\n",
      " [0.00394827 0.51219226]\n",
      " [0.81262096 0.61252607]\n",
      " [0.72175532 0.29187607]]\n"
     ]
    }
   ],
   "source": [
    "np.random.seed(10)\n",
    "p, q = (np.random.rand(i, 2) for i in (4, 5))\n",
    "p_big, q_big = (np.random.rand(i, 80) for i in (100, 120))\n",
    "\n",
    "print(p, \"\\n\\n\", q)"
   ]
  },
  {
   "cell_type": "markdown",
   "metadata": {},
   "source": [
    "Solution\n",
    "==="
   ]
  },
  {
   "cell_type": "code",
   "execution_count": 13,
   "metadata": {
    "collapsed": true
   },
   "outputs": [],
   "source": [
    "def naive(p, q):\n",
    "    ''' naive pairwise distance between all p points and q points\n",
    "    '''\n",
    "    D = np.zeros((p.shape[0], q.shape[0]))\n",
    "    for index_p, point_p in enumerate(p):\n",
    "        for index_q, point_q in enumerate(q):\n",
    "            D[index_p, index_q] = np.linalg.norm(point_p-point_q)\n",
    "    return D"
   ]
  },
  {
   "cell_type": "markdown",
   "metadata": {},
   "source": [
    "### Use matching indices\n",
    "\n",
    "Instead of iterating through indices, one can use them directly to parallelize the operations with Numpy."
   ]
  },
  {
   "cell_type": "code",
   "execution_count": 4,
   "metadata": {},
   "outputs": [
    {
     "name": "stdout",
     "output_type": "stream",
     "text": [
      "[[0 0 0 0 0]\n",
      " [1 1 1 1 1]\n",
      " [2 2 2 2 2]\n",
      " [3 3 3 3 3]]\n",
      "\n",
      "[[0 1 2 3 4]\n",
      " [0 1 2 3 4]\n",
      " [0 1 2 3 4]\n",
      " [0 1 2 3 4]]\n"
     ]
    }
   ],
   "source": [
    "rows, cols = np.indices((p.shape[0], q.shape[0]))\n",
    "print(rows, end='\\n\\n')\n",
    "print(cols)"
   ]
  },
  {
   "cell_type": "code",
   "execution_count": 5,
   "metadata": {},
   "outputs": [
    {
     "name": "stdout",
     "output_type": "stream",
     "text": [
      "[[0.77132064 0.02075195]\n",
      " [0.77132064 0.02075195]\n",
      " [0.77132064 0.02075195]\n",
      " [0.77132064 0.02075195]\n",
      " [0.77132064 0.02075195]\n",
      " [0.63364823 0.74880388]\n",
      " [0.63364823 0.74880388]\n",
      " [0.63364823 0.74880388]\n",
      " [0.63364823 0.74880388]\n",
      " [0.63364823 0.74880388]\n",
      " [0.49850701 0.22479665]\n",
      " [0.49850701 0.22479665]\n",
      " [0.49850701 0.22479665]\n",
      " [0.49850701 0.22479665]\n",
      " [0.49850701 0.22479665]\n",
      " [0.19806286 0.76053071]\n",
      " [0.19806286 0.76053071]\n",
      " [0.19806286 0.76053071]\n",
      " [0.19806286 0.76053071]\n",
      " [0.19806286 0.76053071]]\n",
      "\n",
      "[[0.16911084 0.08833981]\n",
      " [0.68535982 0.95339335]\n",
      " [0.00394827 0.51219226]\n",
      " [0.81262096 0.61252607]\n",
      " [0.72175532 0.29187607]\n",
      " [0.16911084 0.08833981]\n",
      " [0.68535982 0.95339335]\n",
      " [0.00394827 0.51219226]\n",
      " [0.81262096 0.61252607]\n",
      " [0.72175532 0.29187607]\n",
      " [0.16911084 0.08833981]\n",
      " [0.68535982 0.95339335]\n",
      " [0.00394827 0.51219226]\n",
      " [0.81262096 0.61252607]\n",
      " [0.72175532 0.29187607]\n",
      " [0.16911084 0.08833981]\n",
      " [0.68535982 0.95339335]\n",
      " [0.00394827 0.51219226]\n",
      " [0.81262096 0.61252607]\n",
      " [0.72175532 0.29187607]]\n"
     ]
    }
   ],
   "source": [
    "print(p[rows.ravel()], end='\\n\\n')\n",
    "print(q[cols.ravel()])"
   ]
  },
  {
   "cell_type": "code",
   "execution_count": 19,
   "metadata": {
    "collapsed": true
   },
   "outputs": [],
   "source": [
    "def with_indices(p, q):\n",
    "    ''' use indices to compute the pairwise distance between p and q points\n",
    "    '''\n",
    "    rows, cols = np.indices((p.shape[0], q.shape[0]))\n",
    "    p_rows_ravel = p[rows.ravel()]\n",
    "    q_cols_ravel = q[cols.ravel()]\n",
    "    D = np.sqrt(np.sum((p_rows_ravel-q_cols_ravel)**2, axis=1))\n",
    "    return np.reshape(D, (p.shape[0], q.shape[0]))"
   ]
  },
  {
   "cell_type": "markdown",
   "metadata": {},
   "source": [
    "### Use a library\n",
    "\n",
    "`scipy` is the equivalent of matlab toolboxes and have a lot to offer. Actually the pairwise computation is part of the library through the `spatial` module."
   ]
  },
  {
   "cell_type": "code",
   "execution_count": 16,
   "metadata": {},
   "outputs": [],
   "source": [
    "from scipy.spatial.distance import cdist\n",
    "\n",
    "def scipy_version(p, q):\n",
    "    return cdist(p, q)"
   ]
  },
  {
   "cell_type": "markdown",
   "metadata": {},
   "source": [
    "### Numpy Magic"
   ]
  },
  {
   "cell_type": "code",
   "execution_count": 17,
   "metadata": {},
   "outputs": [],
   "source": [
    "def tensor_broadcasting(p, q):\n",
    "    return np.sqrt(np.sum((p[:,np.newaxis,:]-q[np.newaxis,:,:])**2, axis=2))"
   ]
  },
  {
   "cell_type": "markdown",
   "metadata": {},
   "source": [
    "# Compare methods"
   ]
  },
  {
   "cell_type": "code",
   "execution_count": 20,
   "metadata": {},
   "outputs": [
    {
     "name": "stdout",
     "output_type": "stream",
     "text": [
      "168 ms ± 1.64 ms per loop (mean ± std. dev. of 7 runs, 10 loops each)\n",
      "13.3 ms ± 238 µs per loop (mean ± std. dev. of 7 runs, 100 loops each)\n",
      "714 µs ± 19.2 µs per loop (mean ± std. dev. of 7 runs, 1,000 loops each)\n",
      "6.78 ms ± 273 µs per loop (mean ± std. dev. of 7 runs, 100 loops each)\n"
     ]
    }
   ],
   "source": [
    "methods = [naive, with_indices, scipy_version, tensor_broadcasting]\n",
    "timers = []\n",
    "for f in methods:\n",
    "    r = %timeit -o f(p_big, q_big)\n",
    "    timers.append(r)"
   ]
  },
  {
   "cell_type": "code",
   "execution_count": 21,
   "metadata": {},
   "outputs": [
    {
     "data": {
      "image/png": "[encoded data removed]",
      "text/plain": [
       "<Figure size 720x432 with 1 Axes>"
      ]
     },
     "metadata": {
      "needs_background": "light"
     },
     "output_type": "display_data"
    }
   ],
   "source": [
    "plt.figure(figsize=(10,6))\n",
    "plt.bar(np.arange(len(methods)), [r.best*1000 for r in timers], log=False)  # Set log to True for logarithmic scale\n",
    "plt.xticks(np.arange(len(methods))+0.2, [f.__name__ for f in methods], rotation=30)\n",
    "plt.xlabel('Method')\n",
    "plt.ylabel('Time (ms)')\n",
    "plt.show()"
   ]
  },
  {
   "cell_type": "code",
   "execution_count": null,
   "metadata": {
    "collapsed": true
   },
   "outputs": [],
   "source": []
  }
 ],
 "metadata": {
  "interpreter": {
   "hash": "4d9defa72c2715dab9f7f172572cd30a1ab1a2083462d32ef96aadb7c6e0c73b"
  },
  "kernelspec": {
   "display_name": "Python 3.9.7 ('base')",
   "language": "python",
   "name": "python3"
  },
  "language_info": {
   "codemirror_mode": {
    "name": "ipython",
    "version": 3
   },
   "file_extension": ".py",
   "mimetype": "text/x-python",
   "name": "python",
   "nbconvert_exporter": "python",
   "pygments_lexer": "ipython3",
   "version": "3.9.7"
  }
 },
 "nbformat": 4,
 "nbformat_minor": 1
}
